{
 "cells": [
  {
   "cell_type": "markdown",
   "metadata": {},
   "source": [
    "# <center>Monte Carlo Algorithms</center>\n",
    "\n",
    "** N.-B.: You can download the corresponding notebook file and the figure from here **\n",
    "* <a href=\"http://lptms.u-psud.fr/membres/rosso/Lecture1.ipynb\"> notebook source file</a>\n",
    "* <a href=\"http://lptms.u-psud.fr/membres/rosso/pebbles.png\"> figure </a>\n",
    "\n",
    "\n",
    "\n",
    "<img src=\"pebbles.png\" style=\"width:750px;\" align=middle/>\n",
    "<hr>\n",
    "\n",
    "##  Direct sampling   (or the children's game)\n",
    "\n",
    "\n",
    "The favourite game of the kids in Monte Carlo takes palce on the beach, it is  a simple example of direct-sampling Monte Carlo. In the sand a perfect circle inscribed in a perfect square and  many pebbles are evenly drawn inside the square. \n",
    "The goal is to give an estimation of the number $\\pi$. \n",
    "\n",
    "Can you guess what is their strategy?\n"
   ]
  },
  {
   "cell_type": "code",
   "execution_count": 1,
   "metadata": {
    "collapsed": false
   },
   "outputs": [
    {
     "name": "stdout",
     "output_type": "stream",
     "text": [
      "0 3.1352\n",
      "1 3.1492\n",
      "2 3.1456\n",
      "3 3.1616\n",
      "4 3.144\n",
      "5 3.1336\n",
      "6 3.1392\n",
      "7 3.1812\n",
      "8 3.1408\n",
      "9 3.1248\n"
     ]
    }
   ],
   "source": [
    "from random import uniform\n",
    "def direct_pi(N):\n",
    "    n_hits = 0\n",
    "    for i in range(N):\n",
    "        x, y = uniform(-1.0, 1.0), uniform(-1.0, 1.0)\n",
    "        if x ** 2 + y ** 2 < 1.0:\n",
    "            n_hits += 1\n",
    "    return n_hits\n",
    "n_trials = 10000\n",
    "for attempt in range(10):\n",
    "    print (attempt, 4 * direct_pi(n_trials) / float(n_trials))"
   ]
  },
  {
   "cell_type": "markdown",
   "metadata": {},
   "source": [
    "# ADITION (ME)"
   ]
  },
  {
   "cell_type": "code",
   "execution_count": 7,
   "metadata": {
    "collapsed": false
   },
   "outputs": [
    {
     "name": "stdout",
     "output_type": "stream",
     "text": [
      "Populating the interactive namespace from numpy and matplotlib\n"
     ]
    },
    {
     "name": "stderr",
     "output_type": "stream",
     "text": [
      "C:\\ProgramData\\Anaconda3\\lib\\site-packages\\IPython\\core\\magics\\pylab.py:161: UserWarning: pylab import has clobbered these variables: ['uniform']\n",
      "`%matplotlib` prevents importing * from pylab and numpy\n",
      "  \"\\n`%matplotlib` prevents importing * from pylab and numpy\"\n"
     ]
    }
   ],
   "source": [
    "%pylab inline"
   ]
  },
  {
   "cell_type": "code",
   "execution_count": 57,
   "metadata": {
    "collapsed": false
   },
   "outputs": [],
   "source": [
    "def calc(n):\n",
    "    return 4*sum(add(pow(uniform(-1.0,1.0,n),2),pow(uniform(-1.0,1.0,n),2))<1)/n"
   ]
  },
  {
   "cell_type": "code",
   "execution_count": 102,
   "metadata": {
    "collapsed": false
   },
   "outputs": [
    {
     "data": {
      "text/plain": [
       "<matplotlib.text.Text at 0x157af070390>"
      ]
     },
     "execution_count": 102,
     "metadata": {},
     "output_type": "execute_result"
    },
    {
     "data": {
      "image/png": "[encoded data removed]",
      "text/plain": [
       "<matplotlib.figure.Figure at 0x157ae547be0>"
      ]
     },
     "metadata": {},
     "output_type": "display_data"
    }
   ],
   "source": [
    "fig, ax = plt.subplots(1, 1, figsize=(8, 5))\n",
    "N=[int(a) for a in random.exponential(10000,1000)]\n",
    "ax.scatter(N,[calc(n) for n in N],s=2,c='red')\n",
    "ax.plot(N,pi*ones(len(N)))\n",
    "ax.set_xscale('log')\n",
    "ax.set_xlabel('Number of trials')\n",
    "ax.set_ylabel('Approximation for $\\pi$')"
   ]
  },
  {
   "cell_type": "code",
   "execution_count": 103,
   "metadata": {
    "collapsed": false
   },
   "outputs": [
    {
     "data": {
      "text/plain": [
       "<matplotlib.text.Text at 0x157aeb9ba90>"
      ]
     },
     "execution_count": 103,
     "metadata": {},
     "output_type": "execute_result"
    },
    {
     "data": {
      "image/png": "[encoded data removed]",
      "text/plain": [
       "<matplotlib.figure.Figure at 0x157aecb7dd8>"
      ]
     },
     "metadata": {},
     "output_type": "display_data"
    }
   ],
   "source": [
    "N=[int(a) for a in random.exponential(10000,100)]\n",
    "M=arange(100)\n",
    "\n",
    "\n",
    "fig, ax = plt.subplots(1, 1, figsize=(8, 5))\n",
    "ax.scatter(N,[std([calc(n) for m in M]) for n in N],s=5,c='red')\n",
    "ax.set_xscale('log')\n",
    "ax.set_yscale('log')\n",
    "ax.set_xlabel('Number of trials')\n",
    "ax.set_ylabel('Approximation for $\\pi$')\n",
    "\n",
    "ax.set_xlabel('Number of trials')\n",
    "ax.set_ylabel('Standard deviation for the operator')"
   ]
  },
  {
   "cell_type": "markdown",
   "metadata": {},
   "source": [
    "## End of addition"
   ]
  },
  {
   "cell_type": "markdown",
   "metadata": {},
   "source": [
    "In general we will deal with physical quantities that can be expressed as integration of this kind:\n",
    "$$\n",
    " \\langle O\\rangle = \\frac{ \\int_{-1}^{1} dx \\int_{-1}^{1} dy \\pi(x,y) O(x,y) } { \\int_{-1}^{1} dx \\int_{-1}^{1} dy \\pi(x,y) }$$\n",
    "The positive function $\\pi(x,y)$ represents the weight of the point $(x,y)$ and $O(x,y)$ is the observable.\n",
    "\n",
    "\n",
    "\n",
    "In this simple example $\\pi(x, y)$ is the\n",
    "uniform distribution of pebbles within the square, and the  observable is the \"hitting variable\":\n",
    "$$\n",
    "O(x,y)=\n",
    "\\begin{cases}\n",
    "4 \\quad  \\text{if $(x,y)$ is within the unit circle} \\\\\n",
    "\\\\\n",
    "0 \\quad  \\text{if $(x,y)$ is outside the unit circle}  \n",
    "\\end{cases}\n",
    "$$\n",
    "The resul of Monte Carlo is thus:\n",
    "$$ \\langle O\\rangle \\approx  4 \\frac{N_{\\text{hits}}}{N_{\\text{trials}}}$$\n",
    "\n",
    "### Comments\n",
    "\n",
    "* Direct-sampling algorithms exist only for a handful of physically interesting models. \n",
    "\n",
    "* Note that $\\pi(x, y)$ is in general not normalized\n",
    "    \n",
    "* The success of Monte Carlo is based on the existence of a uniform (pseudo) random number generator. \n",
    "\n",
    "## Markov Chain Monte Carlo: the adult's game\n",
    "\n",
    "The same game  is played also by adults but it takes place at Monte Carlo heliport. The helipad is a too large for direct sampling and a Markov chain strategy should be adopted. An adult stands at the last pebble position and draws the new pebble inside a square of side $\\delta$. An important rejection problem has to be fixed every time the new pebble jumps outside the helipad. The solution we adopt allows to uniformly cover the large square with pebbles.\n"
   ]
  },
  {
   "cell_type": "code",
   "execution_count": 104,
   "metadata": {
    "collapsed": false
   },
   "outputs": [
    {
     "name": "stdout",
     "output_type": "stream",
     "text": [
      "3.1396\n",
      "3.0856\n",
      "3.1372\n",
      "3.0364\n",
      "3.162\n",
      "3.0728\n",
      "3.1552\n",
      "3.1368\n",
      "3.104\n",
      "3.0844\n"
     ]
    }
   ],
   "source": [
    "from random import uniform\n",
    "def markov_pi(delta, N):\n",
    "    x, y = 1.0, 1.0\n",
    "    N_hits = 0\n",
    "    for i in range(N):\n",
    "        del_x, del_y = uniform(-delta, delta), uniform(-delta, delta)\n",
    "        if abs(x + del_x) < 1.0 and abs( y + del_y ) < 1.0:\n",
    "            x, y = x + del_x, y + del_y\n",
    "        if x**2 + y**2 < 1.0:\n",
    "            N_hits += 1.0\n",
    "    return N_hits\n",
    "\n",
    "n_trials = 10000\n",
    "for k in range(10):\n",
    "    print (4 * markov_pi(0.3, n_trials) / float(n_trials))"
   ]
  },
  {
   "cell_type": "markdown",
   "metadata": {},
   "source": [
    "### Comments\n",
    "\n",
    "* In Markov-chain sampling algorithms the initial condition must be allowed, not necessary typical\n",
    "    Here adults start their promenade from the \"club house\" located in $(x,y) = (1,1)$.\n",
    "* The algorithm is correct for all step sizes $\\delta$, but the error we make depend on $\\delta$ \n",
    "*  Rule of thumb for the best $\\delta$: the acceptance ratio of Markov chain should be close to $1/2$\n",
    "\n",
    "## Homogeneous pebble game\n",
    "\n",
    "For simplicity we discuss a simplified and discrete 3x3 pebble game. The pebble walks on a 3x3-chessboard without periodic boundary conditions. We design a Markov chain algorithm, so that each site is visited with the same probability. Here a pebble throw consists in moving from a site to each of its neighbors with probability $1/4$.\n",
    "\n",
    "Suppose we are on site a=9, at one time. We can only move to b=8 or c=6, or simply remain at a. This gives\n",
    "\n",
    "\n",
    "$$\n",
    "p_{a \\to a} + p_{a \\to b} + p_{a \\to c} = 1\n",
    "$$\n",
    "\n",
    "\n",
    "On the same time, to get to a, we either come from a, or from b or from c.\n",
    "\n",
    "\n",
    "$$\n",
    "\\pi(a)p(a \\to a) + \\pi(b) p(b\\to a) + \\pi(c) p(c \\to a) = \\pi(a)\n",
    "$$\n",
    "\n",
    "this gives\n",
    "\n",
    "###  <center>global balance condition</center>\n",
    "\n",
    "\n",
    "\n",
    "$$\n",
    "\\pi(b) p(b\\to a) + \\pi(c) p(c \\to a) = \\pi(a) p(a\\to b) + \\pi(a) p(a \\to c)$$\n",
    "\n",
    "A more restrictive condition is called \n",
    "\n",
    "### <center>detailed balance condition</center>\n",
    "\n",
    "\n",
    "\n",
    "$$\n",
    "\\pi(b) p(b\\to a) = \\pi(a) p(a\\to b)\n",
    "$$\n",
    "\n",
    "\n",
    "Below a Python implementation for the 3x3 pebble game. With positions 1,2,...,9, the four neighbors of site 1 are (2,4,1,1). This ensures that the pebble moves with probability 1/4 to sites 2 and 4, and remains on site 1 with probability 1/2. We start the simulation from site 9.\n",
    "\n"
   ]
  },
  {
   "cell_type": "code",
   "execution_count": 105,
   "metadata": {
    "collapsed": false
   },
   "outputs": [
    {
     "data": {
      "image/png": "[encoded data removed]",
      "text/plain": [
       "<matplotlib.figure.Figure at 0x157aecebc50>"
      ]
     },
     "metadata": {},
     "output_type": "display_data"
    }
   ],
   "source": [
    "import random, pylab\n",
    "neighbor = {1 : [2, 4, 1, 1], 2 : [3, 5, 1, 2], 3 : [3, 6, 2, 3],\n",
    "            4 : [5, 7, 4, 1], 5 : [6, 8, 4, 2], 6 : [6, 9, 5, 3],\n",
    "            7 : [8, 7, 7, 4], 8 : [9, 8, 7, 5], 9 : [9, 9, 8, 6]}\n",
    "all_pos = []\n",
    "N_iter = 100\n",
    "for iter1 in range(10000):\n",
    "    pos = 9\n",
    "    for iter in range(N_iter):\n",
    "        pos = neighbor[ pos][ random.randint(0, 3)]\n",
    "    all_pos.append(pos)\n",
    "pylab.figure(1)\n",
    "pylab.hist(all_pos,bins=9,range=(0.5,9.5),normed=True)\n",
    "pylab.title('3x3 pebble game, starting at 9, after '+str(N_iter)+' steps')\n",
    "pylab.savefig('histo_3x3_'+str(N_iter)+'_steps.png')\n",
    "pylab.show()"
   ]
  },
  {
   "cell_type": "markdown",
   "metadata": {},
   "source": [
    "##   Inhomogeneous pebble game\n",
    "\n",
    "For a general probability distribution $\\left( \\pi(1),\\pi(2), \\dots, \\pi(9) \\right)$ we can use a particular solution of the detailed balance condition which corresponds to the celebrated\n",
    "\n",
    "\n",
    "### <center> Metropolis algorithm</center>\n",
    "$$p(a \\to b) = \\min(1, \\pi(b)/\\pi(a) ) $$\n",
    "\n"
   ]
  },
  {
   "cell_type": "code",
   "execution_count": 106,
   "metadata": {
    "collapsed": false
   },
   "outputs": [
    {
     "data": {
      "image/png": "[encoded data removed]",
      "text/plain": [
       "<matplotlib.figure.Figure at 0x157aec10a58>"
      ]
     },
     "metadata": {},
     "output_type": "display_data"
    }
   ],
   "source": [
    "import random, pylab\n",
    "neighbor = {1 : [2, 4, 1, 1], 2 : [3, 5, 1, 2], 3 : [3, 6, 2, 3],\n",
    "            4 : [5, 7, 4, 1], 5 : [6, 8, 4, 2], 6 : [6, 9, 5, 3],\n",
    "            7 : [8, 7, 7, 4], 8 : [9, 8, 7, 5], 9 : [9, 9, 8, 6]}\n",
    "all_pos = []\n",
    "N_iter = 2000\n",
    "weight= {1 : 2., 2 : 2., 3 : 2., 4 : 2., 5 : 1., 6 : 1.,7 : 3., 8 : 1., 9 : 1.}\n",
    "for iter1 in range(1):\n",
    "    pos = 9\n",
    "    for iter in range(2000000):\n",
    "        x = random.uniform(0,1)\n",
    "        posnew = neighbor[pos][ random.randint(0, 3)]\n",
    "        y = weight[posnew]/weight[pos]\n",
    "        if x < y :\n",
    "           pos=posnew \n",
    "        all_pos.append(pos)\n",
    "pylab.figure(1)\n",
    "pylab.hist(all_pos,bins=9,range=(0.5,9.5),normed=True)\n",
    "pylab.title('3x3 pebble game, starting at 9, after '+str(N_iter)+' steps')\n",
    "pylab.savefig('histo_3x3_'+str(N_iter)+'_steps.png')\n",
    "pylab.show()"
   ]
  },
  {
   "cell_type": "markdown",
   "metadata": {},
   "source": [
    "### Comments\n",
    "\n",
    "* Markov-chain Monte Carlo algorithms are a very general tool for integration.\n",
    "* They access the relevant information in the infinite-time limit (see tutorial).\n",
    "* The dynamics of the Markov-chain Monte Carlo algorithm is not always physically relevant.\n",
    "* Many Markov-chain Monte Carlo algorithms satisfy detailed balance, but the necessary condition is global balance."
   ]
  },
  {
   "cell_type": "markdown",
   "metadata": {
    "collapsed": true
   },
   "source": [
    "### References\n",
    "*  We were deeply inspired by the first chapter of SMAC pp 1-9; 15-22\n",
    "*  N. Metropolis, A.W. Rosenbluth, M.N. Rosenbluth, A.H. Teller and E. Teller, J. Chem. Phys. 21, 1087 (1953)"
   ]
  },
  {
   "cell_type": "code",
   "execution_count": null,
   "metadata": {
    "collapsed": true
   },
   "outputs": [],
   "source": []
  }
 ],
 "metadata": {
  "kernelspec": {
   "display_name": "Python 3",
   "language": "python",
   "name": "python3"
  },
  "language_info": {
   "codemirror_mode": {
    "name": "ipython",
    "version": 3
   },
   "file_extension": ".py",
   "mimetype": "text/x-python",
   "name": "python",
   "nbconvert_exporter": "python",
   "pygments_lexer": "ipython3",
   "version": "3.6.0"
  }
 },
 "nbformat": 4,
 "nbformat_minor": 1
}
